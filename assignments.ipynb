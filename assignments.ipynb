{
 "cells": [
  {
   "cell_type": "code",
   "execution_count": 1,
   "metadata": {},
   "outputs": [
    {
     "name": "stdout",
     "output_type": "stream",
     "text": [
      "Overwriting assignment01.py\n"
     ]
    }
   ],
   "source": [
    "%%writefile assignment01.py\n",
    "\n",
    "\n",
    "# Import packages\n",
    "from dash import Dash, html, dcc, callback, Output, Input\n",
    "import plotly.express as px\n",
    "import pandas as pd\n",
    "\n",
    "# Incorporate data\n",
    "df = pd.read_csv('canadian_immegration_data.csv')\n",
    "\n",
    "# Initialize the app\n",
    "app = Dash()\n",
    "\n",
    "# App layout\n",
    "app.layout = [\n",
    "                html.Div(children='Canadian Immigration Data', style={'textAlign': 'center', 'color': 'blue', 'fontSize': 30}),\n",
    "\n",
    "                html.Hr(),\n",
    "\n",
    "                dcc.RadioItems(options=['Continents', 'Top10Regions', 'Top10Countries'], value='Continents', id='radio'),\n",
    "\n",
    "                dcc.Graph(figure={}, id='graph')\n",
    "            ]\n",
    "\n",
    "# Add controls to build the interaction\n",
    "@callback(\n",
    "    Output(component_id='graph', component_property='figure'),\n",
    "    Input(component_id='radio', component_property='value')\n",
    ")\n",
    "def update_graph(col_chosen):\n",
    "    # Calculate the average of the chosen column for each continent\n",
    "    if col_chosen == 'Continents':\n",
    "        fig = px.histogram(df, x='Continent', y='Total', title='Immigration to Canada by Region', histfunc='avg', \n",
    "             category_orders={'Continent': ['Northern America', 'Asia', 'Europe', 'Latin America and the Caribbean', 'Africa', 'Oceania']})\n",
    "\n",
    "    elif col_chosen == 'Top10Regions':\n",
    "        top10regions = df.groupby('Region')['Total'].sum().sort_values(ascending=False).head(10).reset_index()\n",
    "        fig = px.bar(top10regions, x='Region', y='Total', title='Immigration to Canada by Region')\n",
    "\n",
    "    else:\n",
    "        top10countries = df.nlargest(10, 'Total').reset_index()[['Country', 'Total']]\n",
    "        top10countries.loc[2, 'Country'] = 'United Kingdom'\n",
    "        fig = px.bar(top10countries, x='Country', y='Total', title='Immigration to Canada by Country')\n",
    "\n",
    "    return fig\n",
    "\n",
    "# Run the app\n",
    "app.run(debug=True, port=8053)\n",
    "import os\n",
    "print(\"Current Working Directory:\", os.getcwd())"
   ]
  },
  {
   "cell_type": "code",
   "execution_count": 2,
   "metadata": {},
   "outputs": [
    {
     "name": "stdout",
     "output_type": "stream",
     "text": [
      "Current Working Directory: h:\\My Drive\\IBM Data Science G2\\02- Data Visualization\\DV_03\\03- Assignments\n"
     ]
    }
   ],
   "source": [
    "import os\n",
    "print(\"Current Working Directory:\", os.getcwd())"
   ]
  },
  {
   "cell_type": "code",
   "execution_count": 3,
   "metadata": {},
   "outputs": [
    {
     "data": {
      "text/html": [
       "\n",
       "        <iframe\n",
       "            width=\"100%\"\n",
       "            height=\"650\"\n",
       "            src=\"http://127.0.0.1:8053/\"\n",
       "            frameborder=\"0\"\n",
       "            allowfullscreen\n",
       "            \n",
       "        ></iframe>\n",
       "        "
      ],
      "text/plain": [
       "<IPython.lib.display.IFrame at 0x1537850f050>"
      ]
     },
     "metadata": {},
     "output_type": "display_data"
    }
   ],
   "source": [
    "# Import packages\n",
    "from dash import Dash, html, dcc, callback, Output, Input\n",
    "import plotly.express as px\n",
    "import pandas as pd\n",
    "\n",
    "# Incorporate data\n",
    "df = pd.read_csv('canadian_immegration_data.csv')\n",
    "\n",
    "# Initialize the app\n",
    "app = Dash()\n",
    "\n",
    "# App layout\n",
    "app.layout = [\n",
    "                html.Div(children='Canadian Immigration Data', style={'textAlign': 'center', 'color': 'blue', 'fontSize': 30}),\n",
    "\n",
    "                html.Hr(),\n",
    "\n",
    "                dcc.RadioItems(options=['Continents', 'Top10Regions', 'Top10Countries'], value='Continents', id='radio'),\n",
    "\n",
    "                dcc.Graph(figure={}, id='graph')\n",
    "            ]\n",
    "\n",
    "# Add controls to build the interaction\n",
    "@callback(\n",
    "    Output(component_id='graph', component_property='figure'),\n",
    "    Input(component_id='radio', component_property='value')\n",
    ")\n",
    "def update_graph(col_chosen):\n",
    "    # Calculate the average of the chosen column for each continent\n",
    "    if col_chosen == 'Continents':\n",
    "        fig = px.histogram(df, x='Continent', y='Total', title='Immigration to Canada by Continent', histfunc='avg', \n",
    "             category_orders={'Continent': ['Northern America', 'Asia', 'Europe', 'Latin America and the Caribbean', 'Africa', 'Oceania']})\n",
    "\n",
    "    elif col_chosen == 'Top10Regions':\n",
    "        top10regions = df.groupby('Region')['Total'].sum().sort_values(ascending=False).head(10).reset_index()\n",
    "        fig = px.bar(top10regions, x='Region', y='Total', title='Immigration to Canada by Region')\n",
    "\n",
    "    else:\n",
    "        top10countries = df.nlargest(10, 'Total').reset_index()[['Country', 'Total']]\n",
    "        top10countries.loc[2, 'Country'] = 'United Kingdom'\n",
    "        fig = px.bar(top10countries, x='Country', y='Total', title='Immigration to Canada by Country')\n",
    "\n",
    "    return fig\n",
    "\n",
    "# Run the app\n",
    "app.run(debug=True, port=8053)\n"
   ]
  },
  {
   "cell_type": "code",
   "execution_count": 5,
   "metadata": {},
   "outputs": [
    {
     "name": "stderr",
     "output_type": "stream",
     "text": [
      "INFO: Not scanning for jupyter notebooks.\n",
      "WARNING: Import named \"pandas\" not found locally. Trying to resolve it at the PyPI server.\n",
      "WARNING: Import named \"pandas\" was resolved to \"pandas:2.2.2\" package (https://pypi.org/project/pandas/).\n",
      "Please, verify manually the final list of requirements.txt to avoid possible dependency confusions.\n",
      "INFO: Successfully saved requirements file in .\\requirements.txt\n"
     ]
    }
   ],
   "source": [
    "!pipreqs ."
   ]
  },
  {
   "cell_type": "code",
   "execution_count": null,
   "metadata": {},
   "outputs": [],
   "source": []
  }
 ],
 "metadata": {
  "kernelspec": {
   "display_name": "base",
   "language": "python",
   "name": "python3"
  },
  "language_info": {
   "codemirror_mode": {
    "name": "ipython",
    "version": 3
   },
   "file_extension": ".py",
   "mimetype": "text/x-python",
   "name": "python",
   "nbconvert_exporter": "python",
   "pygments_lexer": "ipython3",
   "version": "3.12.4"
  }
 },
 "nbformat": 4,
 "nbformat_minor": 2
}
